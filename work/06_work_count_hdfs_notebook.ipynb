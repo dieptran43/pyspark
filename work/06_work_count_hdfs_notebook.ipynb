{
 "cells": [
  {
   "cell_type": "code",
   "execution_count": 2,
   "metadata": {},
   "outputs": [
    {
     "name": "stdout",
     "output_type": "stream",
     "text": [
      "language: 1\n",
      "last: 1\n",
      "years.: 1\n",
      "think: 1\n",
      "of: 3\n",
      "politics,: 1\n",
      "he: 2\n",
      "political: 1\n",
      "very: 1\n",
      "focused: 1\n",
      "his: 1\n",
      "“divisions”: 1\n",
      "yes,: 1\n",
      "but: 1\n",
      "them: 1\n",
      "an: 1\n",
      "uncompromising: 1\n",
      "controversial: 1\n",
      "style: 1\n",
      "fomenting: 1\n",
      "humiliating: 1\n",
      "run: 1\n",
      "afoul: 1\n",
      "This: 1\n",
      "completely: 1\n",
      "glosses: 1\n",
      "over: 1\n",
      "the: 2\n",
      "three-and-a-half: 1\n",
      "Whatever: 1\n",
      "you: 1\n",
      "Trump’s: 1\n",
      "has: 2\n",
      "pursued: 1\n",
      "a: 1\n",
      "divisive: 1\n",
      "strategy: 1\n",
      "much: 1\n",
      "on: 2\n",
      "base.: 1\n",
      "Many: 1\n",
      "and: 3\n",
      "“wounds”: 1\n",
      "predated: 1\n",
      "him,: 1\n",
      "exacerbated: 1\n",
      "with: 1\n",
      "unyielding,: 1\n",
      "that: 1\n",
      "relies: 1\n",
      "culture: 1\n",
      "wars: 1\n",
      "those: 1\n",
      "who: 1\n",
      "him.: 1\n"
     ]
    }
   ],
   "source": [
    "from __future__ import print_function\n",
    "\n",
    "import sys\n",
    "from operator import add\n",
    "\n",
    "from pyspark.sql import SparkSession\n",
    "\n",
    "if __name__ == \"__main__\":    \n",
    "    spark = SparkSession\\\n",
    "        .builder \\\n",
    "        .appName(\"PythonWordCount\")\\\n",
    "        .getOrCreate()\n",
    "    \n",
    "    sc = spark.sparkContext\n",
    "\n",
    "    lines = sc.textFile(\"hdfs://hadoop-namenode:8020/tmp/test.txt\")\n",
    "    counts = lines.flatMap(lambda x: x.split(' ')) \\\n",
    "                  .map(lambda x: (x, 1)) \\\n",
    "                  .reduceByKey(add)\n",
    "    output = counts.collect()\n",
    "    for (word, count) in output:\n",
    "        print(\"%s: %i\" % (word, count))\n",
    "\n",
    "    spark.stop()"
   ]
  },
  {
   "cell_type": "code",
   "execution_count": null,
   "metadata": {},
   "outputs": [],
   "source": []
  }
 ],
 "metadata": {
  "kernelspec": {
   "display_name": "Python 3",
   "language": "python",
   "name": "python3"
  },
  "language_info": {
   "codemirror_mode": {
    "name": "ipython",
    "version": 3
   },
   "file_extension": ".py",
   "mimetype": "text/x-python",
   "name": "python",
   "nbconvert_exporter": "python",
   "pygments_lexer": "ipython3",
   "version": "3.6.8"
  }
 },
 "nbformat": 4,
 "nbformat_minor": 2
}
